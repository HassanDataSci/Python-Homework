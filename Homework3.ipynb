{
  "cells": [
    {
      "cell_type": "markdown",
      "metadata": {
        "id": "lxKdkQnhjeuE"
      },
      "source": [
        "# Homework 3: 1D Lists\n",
        "\n",
        "* This homework is a **solo** assignment.\n",
        "* To start: Either download this assignment or copy this colab notebook.\n",
        "* To submit: Upload your homework as a **.py file** with your name in the format **ShethShivaniHW3.py** to the link on blackboard. All of the tests are provided below. You will be scored based on the number of tests you pass.\n",
        "\n"
      ]
    },
    {
      "cell_type": "markdown",
      "metadata": {
        "id": "-VqSxXITa2OM"
      },
      "source": [
        "###**smallestDifference(L)**: 10 pts\n",
        "Write the function smallestDifference(L) that takes a list of integers and returns the smallest absolute difference between any two integers in that list. If the list has less than 2 elements, return -1. If you need to use inf, use math.inf!\n",
        "\n",
        "Hint: you might want to use a built in function to modify the list first"
      ]
    },
    {
      "cell_type": "code",
      "execution_count": 224,
      "metadata": {
        "id": "4x_-dpcfbPxO"
      },
      "outputs": [],
      "source": [
        "import math\n",
        "def smallestDifference(L):\n",
        "  if len(L) < 2:\n",
        "      return -1 \n",
        "  min_diff = math.inf\n",
        "  \n",
        "  for i in range(len(L)):\n",
        "  \n",
        "    for x in range(i+1, len(L)):\n",
        "       diff = abs(L[i] - L[x]) \n",
        "       if diff< min_diff:\n",
        "          min_diff = diff\n",
        "  return(min_diff)"
      ]
    },
    {
      "cell_type": "code",
      "execution_count": 225,
      "metadata": {
        "id": "i8gZo5rlbSjM"
      },
      "outputs": [
        {
          "name": "stdout",
          "output_type": "stream",
          "text": [
            "Testing smallestDifference()...Passed.\n"
          ]
        }
      ],
      "source": [
        "def testSmallestDifference():\n",
        "  print(\"Testing smallestDifference()...\", end=\"\")\n",
        "  assert(smallestDifference([0,1]) == 1)\n",
        "  assert(smallestDifference([19,2,83,6,27]) == 4)\n",
        "  assert(smallestDifference([19,2,83,6,27,3,-4,5]) == 1)\n",
        "  assert(smallestDifference([1]) == -1)\n",
        "  assert(smallestDifference([]) == -1)\n",
        "  assert(smallestDifference([-19,-2,-83,-6,-27]) == 4)\n",
        "  print(\"Passed.\")\n",
        "\n",
        "testSmallestDifference()"
      ]
    },
    {
      "cell_type": "markdown",
      "metadata": {
        "id": "UXyzFP1Bb3eQ"
      },
      "source": [
        "###**isSorted**: 10 pts\n",
        "Write the function isSorted(L) that takes a list of numbers and returns True if the list is sorted (either smallest-first or largest-first) and False otherwise."
      ]
    },
    {
      "cell_type": "code",
      "execution_count": 222,
      "metadata": {
        "id": "IqRZiVVrcIcB"
      },
      "outputs": [],
      "source": [
        "def isSorted(L): \n",
        "  if L == sorted(L) or L == sorted(L, reverse=True):\n",
        "    return True\n",
        "    \n",
        "  else:\n",
        "    return False\n"
      ]
    },
    {
      "cell_type": "code",
      "execution_count": 223,
      "metadata": {
        "id": "DGjtOFupcJ_1"
      },
      "outputs": [
        {
          "name": "stdout",
          "output_type": "stream",
          "text": [
            "Passed!\n"
          ]
        }
      ],
      "source": [
        "def testIsSorted():\n",
        "  assert(isSorted([1, 2, 34, 57, 78, 999]) == True)\n",
        "  assert(isSorted([1, 2, 34, 57, 78, 999, 1]) == False)\n",
        "  assert(isSorted([1, 1, 1, 2, 34, 57, 78, 78, 78, 999]) == True)\n",
        "  assert(isSorted([1, 2, 34, 57, 78, 999, 75, 53, 32, 2]) == False)\n",
        "  assert(isSorted([999, 75, 53, 32, 2]) == True)\n",
        "  assert(isSorted([999]) == True)\n",
        "  assert(isSorted([]) == True)\n",
        "  assert(isSorted([-999, -75, -53, 3, 21]) == True)\n",
        "  assert(isSorted([999, -75, -503, -9993]) == True)\n",
        "  print(\"Passed!\")\n",
        "\n",
        "testIsSorted()"
      ]
    },
    {
      "cell_type": "markdown",
      "metadata": {
        "id": "Ha_bLDamc_XX"
      },
      "source": [
        "###**lookAndSay(a)**: (10 pts)\n",
        "Look and say numbers describes a list of numbers as how we (humans) would interpret it. If there was a list like (1, 1, 1), we would describe that as \"3 1s\". You can read more about look and say numbers [here](https://en.wikipedia.org/wiki/Look-and-say_sequence).\n",
        "\n",
        "Write the function lookAndSay(a) that takes a list of numbers and returns a list of numbesr that results from \"reading off\" the initial list using tuples for each (count, value) pair.\n"
      ]
    },
    {
      "cell_type": "code",
      "execution_count": 218,
      "metadata": {
        "id": "bfqOQeq1xMD0"
      },
      "outputs": [],
      "source": [
        "def lookAndSay(a):\n",
        "    human_count = []\n",
        "    i = 0\n",
        "   \n",
        "    while i < len(a):\n",
        "        count = 1\n",
        "        while i + 1 < (len(a)) and (a[i]) == a[i+1]:\n",
        "                    count += 1\n",
        "                    i += 1\n",
        "                    \n",
        "        human_count.append((count, a[i]))\n",
        "      \n",
        "        i += 1\n",
        "\n",
        "               \n",
        "    return(human_count)\n",
        "\n"
      ]
    },
    {
      "cell_type": "code",
      "execution_count": 219,
      "metadata": {
        "colab": {
          "base_uri": "https://localhost:8080/"
        },
        "id": "YbVvssqHcf_9",
        "outputId": "f3cb444b-eb07-491d-c764-6eacb4c279e9"
      },
      "outputs": [
        {
          "name": "stdout",
          "output_type": "stream",
          "text": [
            "Testing lookAndSay()...Passed!\n"
          ]
        }
      ],
      "source": [
        "def testLookAndSay():\n",
        "    print(\"Testing lookAndSay()...\", end=\"\")\n",
        "    assert(lookAndSay([]) == [])\n",
        "    assert(lookAndSay([1,1,1]) == [(3, 1)])\n",
        "    assert(lookAndSay([-1, 2, 7]) == [(1, -1), (1, 2), (1, 7)])\n",
        "    assert(lookAndSay([3,3,8,-10,-10,-10]) == [(2,3),(1,8),(3,-10)])\n",
        "    assert(lookAndSay([3,3,8,-10,-10,-10, 3, 3, 3]) == [(2,3),(1,8),(3,-10),(3,3)])\n",
        "    assert(lookAndSay([0]) == [(1,0)])\n",
        "    assert(lookAndSay([500,501,502,502]) == [(1,500),(1,501),(2,502)])\n",
        "    print(\"Passed!\")\n",
        "\n",
        "testLookAndSay()"
      ]
    },
    {
      "cell_type": "markdown",
      "metadata": {
        "id": "8XlAlz52cm3s"
      },
      "source": [
        "###**inverseLookAndSay(a)**: (10 pts)\n",
        "\n",
        "Write the function inverseLookAndSay(a) that does the inverse of the previous problem so that in general:\n",
        "\n",
        "\n",
        "```\n",
        "inverseLookAndSay(lookAndSay(a)) == a\n",
        "```\n",
        "\n"
      ]
    },
    {
      "cell_type": "code",
      "execution_count": 256,
      "metadata": {
        "id": "ZLscXLajWJzI"
      },
      "outputs": [],
      "source": [
        "def inverseLookAndSay(a):\n",
        "    inv_list = []\n",
        "    i = 0\n",
        "    while i < len(a):\n",
        "        for x in range(a[i][0]):\n",
        "            inv_list.append(a[i][1])\n",
        "        \n",
        "        i += 1\n",
        "    return(inv_list)\n",
        "\n"
      ]
    },
    {
      "cell_type": "code",
      "execution_count": 258,
      "metadata": {
        "id": "FZHE_egfcwCH"
      },
      "outputs": [
        {
          "name": "stdout",
          "output_type": "stream",
          "text": [
            "Testing inverseLookAndSay()...Passed!\n"
          ]
        }
      ],
      "source": [
        "def testInverseLookAndSay():\n",
        "    print(\"Testing inverseLookAndSay()...\", end=\"\")\n",
        "    assert(inverseLookAndSay([]) == [])\n",
        "    assert(inverseLookAndSay([(3, 1)]) == [1,1,1])\n",
        "    assert(inverseLookAndSay([(1, -1), (1, 2), (1, 7)]) == [-1, 2, 7])\n",
        "    assert(inverseLookAndSay([(2,3),(1,8),(3,-10)]) == [3,3,8,-10,-10,-10])\n",
        "    assert(inverseLookAndSay([(2,3),(1,8),(3,-10),(3,3)]) == [3,3,8,-10,-10,-10, 3, 3, 3])\n",
        "    assert(inverseLookAndSay([(1,0)]) == [0])\n",
        "    assert(inverseLookAndSay([(1,500),(1,501),(2,502)]) == [500,501,502,502])\n",
        "    print(\"Passed!\")\n",
        "\n",
        "testInverseLookAndSay()"
      ]
    },
    {
      "cell_type": "markdown",
      "metadata": {
        "id": "FuqW2BAVcu21"
      },
      "source": [
        "### **bestScrabbleScore(dictionary, letterScores, hand)**: (20 pts)\n",
        "Background: In a Scrabble-like game, players each have a hand, which is a list of lowercase letters. There is also a dictionary, which is a list of legal words (all in lowercase letters). And there is a list of letterScores, which is length 26, where letterScores[i] contains the point value for the ith character in the alphabet (so letterScores[0] contains the point value for 'a').\n",
        "\n",
        "Players can use some or all of the tiles in their hand and arrange them in any order to form words. The point value for a word is 0 if it is not in the dictionary, otherwise it is the sum of the point values of each letter in the word, according to the letterScores list (pretty much as it works in actual Scrabble).\n",
        "\n",
        "With this in mind, write the function bestScrabbleScore(dictionary, letterScores, hand) that takes 3 lists -- dictionary (a list of lowercase words), letterScores (a list of 26 integers), and hand (a list of lowercase characters) -- and returns a tuple of the highest-scoring word in the dictionary that can be formed by some arrangement of some subset of letters in the hand, followed by its score. In the case of a tie, the first element of the tuple should instead be a list of all such words in the order they appear in the dictionary. If no such words exist, return None.\n",
        "\n"
      ]
    },
    {
      "cell_type": "code",
      "execution_count": 346,
      "metadata": {
        "id": "rk74G9pqd9xB"
      },
      "outputs": [],
      "source": [
        "def bestScrabbleScore(dictionary, letterScores, hand):\n",
        "    best_word = None  \n",
        "    best_score = 0   \n",
        "    \n",
        "    # Count occurences of each leter in the hand\n",
        "    hand_counts = {}\n",
        "    for letter in hand:\n",
        "        hand_counts[letter] = hand_counts.get(letter, 0) + 1\n",
        "    \n",
        "    # Iterate through the dictionary to find the best wordd\n",
        "    for word in dictionary:\n",
        "        word_counts = {}\n",
        "        for letter in word:\n",
        "            word_counts[letter] = word_counts.get(letter, 0) + 1\n",
        "        \n",
        "        # Check if all letters in the word can be formed from the hand\n",
        "        can_form_word = True\n",
        "        for letter, count in word_counts.items():\n",
        "            if letter not in hand_counts or count > hand_counts[letter]:\n",
        "                can_form_word = False\n",
        "                break\n",
        "        \n",
        "        if can_form_word:\n",
        "            word_score = sum(letterScores[ord(letter) - ord('a')] * count for letter, count in word_counts.items())\n",
        "            if word_score > best_score:\n",
        "                best_word = word\n",
        "                best_score = word_score\n",
        "    \n",
        "    if best_word is None: \n",
        "        return (\"\", 0)    \n",
        "    else:\n",
        "        return best_word, best_score\n",
        "\n"
      ]
    },
    {
      "cell_type": "code",
      "execution_count": 347,
      "metadata": {
        "colab": {
          "base_uri": "https://localhost:8080/",
          "height": 375
        },
        "id": "8VNIeasvxXmT",
        "outputId": "18037d53-1b1f-4503-dfc6-ef4bd9b0b790"
      },
      "outputs": [
        {
          "name": "stdout",
          "output_type": "stream",
          "text": [
            "Testing bestScrabbleScore()...Passed!\n"
          ]
        }
      ],
      "source": [
        "def testBestScrabbleScore():\n",
        "    print(\"Testing bestScrabbleScore()...\", end=\"\")\n",
        "\n",
        "    letterScoresA = [\n",
        "   #  a, b, c, d, e, f, g, h, i, j, k, l, m\n",
        "      1, 3, 3, 2, 1, 4, 2, 4, 1, 8, 5, 1, 3,\n",
        "   #  n, o, p, q, r, s, t, u, v, w, x, y, z\n",
        "      1, 1, 3,10, 1, 1, 1, 1, 4, 4, 8, 4,10\n",
        "    ]\n",
        "    letterScoresB = [\n",
        "   #  a, b, c, d, e, f, g, h, i, j, k, l, m\n",
        "      1, 1, 3,10, 1, 1, 1, 1, 4, 4, 8, 4,10,\n",
        "   #  n, o, p, q, r, s, t, u, v, w, x, y, z\n",
        "      1, 3, 3, 2, 1, 4, 2, 4, 1, 8, 5, 1, 3\n",
        "    ]\n",
        "\n",
        "\n",
        "    assert(bestScrabbleScore([\"hello\", \"lets\", \"play\", \"scrabble\", \"together\"], letterScoresA, ['s','c','r','a','b','b','l','e','t','o','l','h']) == (\"scrabble\",14))\n",
        "    assert(bestScrabbleScore([\"hi\"], letterScoresA, ['h']) == (\"\", 0))\n",
        "    assert(bestScrabbleScore([\"hit\"], letterScoresA, ['h']) == (\"\",0))\n",
        "    assert(bestScrabbleScore([\"hi\"], letterScoresA, ['h', 'i', 'i']) == (\"hi\", 5))\n",
        "    assert(bestScrabbleScore([\"zanax\", \"scrabble\", \"together\"], letterScoresA, ['z','a','n','a','x','t','o','l','h','t','o','g','e','t','h','e','r']) == (\"zanax\", 21))\n",
        "    assert(bestScrabbleScore([\"hello\", \"lets\", \"play\", \"scrabble\", \"together\"], letterScoresB, ['s','c','r','a','b','b','l','e','t','o','l','h']) == (\"scrabble\", 16))\n",
        "    assert(bestScrabbleScore([\"zanax\", \"scrabble\", \"together\"], letterScoresB, ['z','a','n','a','x','t','o','l','r']) == (\"zanax\", 11))\n",
        "    print(\"Passed!\")\n",
        "\n",
        "testBestScrabbleScore()"
      ]
    },
    {
      "cell_type": "markdown",
      "metadata": {
        "id": "ruBG5wINd-Ow"
      },
      "source": [
        "### **lockerProblem(lockers)**: (20 pts)\n",
        "\n",
        "Imagine 100 lockers numbered 1 to 100 with students lined up in front of those 100 lockers.\n",
        "\n",
        "The first student opens every locker. The second student closes every 2nd locker. The third student changes every 3rd locker (if it's open, she closes it, if it's closed, she opens it). This continues for all 100 students\n",
        "\n",
        "With this in mind, return the list of lockers that are open after all n students have walked through the lockers."
      ]
    },
    {
      "cell_type": "code",
      "execution_count": 487,
      "metadata": {
        "id": "u97Cwdp35QCh"
      },
      "outputs": [
        {
          "data": {
            "text/plain": [
              "[1, 4, 9, 16, 25, 36, 49, 64, 81, 100]"
            ]
          },
          "execution_count": 487,
          "metadata": {},
          "output_type": "execute_result"
        }
      ],
      "source": [
        "def lockerProblem(lockers):\n",
        "\n",
        "  x = 0\n",
        "  y = 0\n",
        "  list = []\n",
        "  if lockers == 0:\n",
        "    return([])\n",
        "\n",
        "  while  x < lockers and y < lockers:\n",
        "    x += 1\n",
        "    y = (x*x)\n",
        "    if y <= lockers:\n",
        "      list.append(y)\n",
        "\n",
        "    \n",
        "    \n",
        "    \n",
        "   \n",
        "    \n",
        "  return(list)\n",
        "    \n",
        "    \n",
        "    \n",
        "\n",
        "    \n",
        "  \n",
        "  \n"
      ]
    },
    {
      "cell_type": "code",
      "execution_count": 488,
      "metadata": {
        "id": "dfbWPZ3CgzWR"
      },
      "outputs": [
        {
          "name": "stdout",
          "output_type": "stream",
          "text": [
            "Testing lockerProblem()...Passed.\n"
          ]
        }
      ],
      "source": [
        "def testLockerProblem():\n",
        "    print('Testing lockerProblem()...', end='')\n",
        "    assert(lockerProblem(0) == [])\n",
        "    assert(lockerProblem(1) == [1])\n",
        "    assert(lockerProblem(10) == [1,4,9])\n",
        "    assert(lockerProblem(1000) == [1, 4, 9, 16, 25, 36, 49, 64, 81, 100, 121, 144, 169, 196, 225, 256, 289, 324, 361, 400, 441, 484, 529, 576, 625, 676, 729, 784, 841, 900, 961]\n",
        ")\n",
        "    assert(lockerProblem(100) == [1, 4, 9, 16, 25, 36, 49, 64, 81, 100]\n",
        ")\n",
        "    assert(lockerProblem(55) == [1, 4, 9, 16, 25, 36, 49])\n",
        "    print('Passed.')\n",
        "\n",
        "testLockerProblem()"
      ]
    },
    {
      "cell_type": "markdown",
      "metadata": {
        "id": "yO74ZXSSg4nB"
      },
      "source": [
        "###**isKingsTour(board)** [20 pts]\n",
        "Background: in Chess, a King can move from any square to any adjacent square in any of the 8 possible directions. A King's Tour is a series of legal King moves so that every square is visited exactly once. We can represent a Kings Tour in a 2d list where the numbers represent the order the squares are visited, going from 1 to N2.\n",
        "\n",
        "With this in mind, write the function isKingsTour(board) that takes a 2d list of integers, which you may assume is NxN for some N>0, and returns True if it represents a legal Kings Tour and False otherwise.\n",
        "\n",
        "Hint: Read the test cases!"
      ]
    },
    {
      "cell_type": "code",
      "execution_count": 503,
      "metadata": {},
      "outputs": [
        {
          "data": {
            "text/plain": [
              "True"
            ]
          },
          "execution_count": 503,
          "metadata": {},
          "output_type": "execute_result"
        }
      ],
      "source": [
        "def isKingsTour(x):\n",
        "    rows = len(x)\n",
        "    cols = len(x[0])\n",
        "    visited = set()\n",
        "    target = rows * cols\n",
        "\n",
        "    for r in range(rows):\n",
        "        for c in range(cols):\n",
        "            num = x[r][c]\n",
        "            if num < 1 or num > target or num in visited:\n",
        "                return False\n",
        "            visited.add(num)\n",
        "            if num < target:\n",
        "                found_adjacent = False\n",
        "                for dr in range(-1, 2):\n",
        "                    for dc in range(-1, 2):\n",
        "                        if (0 <= r + dr < rows and 0 <= c + dc < cols and\n",
        "                                (dr != 0 or dc != 0) and\n",
        "                                x[r + dr][c + dc] == num + 1):\n",
        "                            found_adjacent = True\n",
        "                            break\n",
        "                    if found_adjacent:\n",
        "                        break\n",
        "                if not found_adjacent:\n",
        "                    return False  \n",
        "\n",
        "    return True  \n",
        "\n",
        "\n",
        "\n",
        "\n",
        "    \n",
        "\n",
        "isKingsTour([[1, 14, 15, 16],\n",
        "            [ 13,  2,  7,  6],\n",
        "            [ 12,  8,  3,  5],\n",
        "            [ 11, 10,  9,  4]])"
      ]
    },
    {
      "cell_type": "code",
      "execution_count": 502,
      "metadata": {
        "id": "G4xwUfXog4F-"
      },
      "outputs": [],
      "source": [
        "'''\n",
        "The first is a legal Kings Tour but the second is not, because there is no way\n",
        "to legally move from the 7 to the 8, and the third is not, because it contains\n",
        "a 0 which is out of range. Also, this should work not just for 3x3 boards but\n",
        "for any NxN board like test case 4\n",
        "'''\n",
        "\n",
        "def testIsKingsTour():\n",
        "  print('Testing isKingsTour()...', end='')\n",
        "  assert(isKingsTour([[ 3, 2, 1 ],\n",
        "                      [ 6, 4, 9 ],\n",
        "                      [ 5, 7, 8 ]]) == True)\n",
        "  assert(isKingsTour([[  1, 2, 3 ],\n",
        "                      [  7, 4, 8 ],\n",
        "                      [  6, 5, 9 ] ]) ==False)\n",
        "  assert(isKingsTour([[ 3, 2, 1 ],\n",
        "                      [ 6, 4, 0 ]  ,\n",
        "                      [ 5, 7, 8 ]]))\n",
        "  assert(isKingsTour([[  1, 14, 15, 16],\n",
        "                      [ 13,  2,  7,  6],\n",
        "                      [ 12,  8,  3,  5],\n",
        "                      [ 11, 10,  9,  4]]) == True)\n",
        "\n",
        "  print(\"Passed.\")"
      ]
    },
    {
      "cell_type": "code",
      "execution_count": null,
      "metadata": {},
      "outputs": [],
      "source": []
    },
    {
      "cell_type": "markdown",
      "metadata": {
        "id": "GBP9ly_y6mFD"
      },
      "source": [
        "###**BONUS: containerWithTheMostArea(heights)** (10pts)\n",
        "You are given an integer array height of length n. There are n vertical lines drawn such that the two endpoints of the ith line are (i, 0) and (i, height[i]).\n",
        "\n",
        "Find two lines that together with the x-axis form a container, such that the container contains the most water.\n",
        "\n",
        "Return the maximum amount of water a container can store.\n",
        "\n",
        "Notice that you may not slant the container.\n",
        "\n",
        "**Example 1**\n",
        "\n",
        "Input: height = [1,8,6,2,5,4,8,3,7]\n",
        "\n",
        "Output: 49\n",
        "\n",
        "Explanation: The above vertical lines are represented by array [1,8,6,2,5,4,8,3,7]. In this case, the max area of water (blue section) the container can contain is 49.\n",
        "\n",
        "![image.png](data:image/png;base64,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)"
      ]
    },
    {
      "cell_type": "code",
      "execution_count": 517,
      "metadata": {},
      "outputs": [
        {
          "data": {
            "text/plain": [
              "35"
            ]
          },
          "execution_count": 517,
          "metadata": {},
          "output_type": "execute_result"
        }
      ],
      "source": [
        "def maxArea(heights):\n",
        "  n = len(heights)\n",
        "  area = 0\n",
        "  for i in range(n):\n",
        "    for j  in range(i +1 , n):\n",
        "      area = max(area, min(heights[j], heights[i]) * (j - i))\n",
        "\n",
        "  return(area)\n",
        "\n",
        "      \n",
        "\n"
      ]
    },
    {
      "cell_type": "code",
      "execution_count": 519,
      "metadata": {
        "id": "Yk-WtLdo7cY-"
      },
      "outputs": [
        {
          "name": "stdout",
          "output_type": "stream",
          "text": [
            "passed!\n"
          ]
        }
      ],
      "source": [
        "\n",
        "def testMaxArea():\n",
        "  assert(maxArea([1,8,6,2,5,4,8,3,7]) == 49)\n",
        "  assert(maxArea([1, 1]) == 1)\n",
        "  assert(maxArea([1, 10]) == 1)\n",
        "  assert(maxArea([1,7, 8, 9, 0, 3, 33]) == 35)\n",
        "  assert(maxArea([0, 0]) == 0)\n",
        "  assert(maxArea([4, 10, 1, 5, 2, 6, 3, 6, 9, 3, 6, 12]\n",
        ") == 100)\n",
        "  print(\"passed!\")\n",
        "\n",
        "testMaxArea()"
      ]
    }
  ],
  "metadata": {
    "colab": {
      "provenance": []
    },
    "kernelspec": {
      "display_name": "Python 3",
      "name": "python3"
    },
    "language_info": {
      "codemirror_mode": {
        "name": "ipython",
        "version": 3
      },
      "file_extension": ".py",
      "mimetype": "text/x-python",
      "name": "python",
      "nbconvert_exporter": "python",
      "pygments_lexer": "ipython3",
      "version": "3.11.5"
    }
  },
  "nbformat": 4,
  "nbformat_minor": 0
}
